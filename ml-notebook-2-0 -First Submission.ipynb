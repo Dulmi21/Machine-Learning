{
 "cells": [
  {
   "cell_type": "code",
   "execution_count": 1,
   "id": "56e62c39",
   "metadata": {
    "_cell_guid": "b1076dfc-b9ad-4769-8c92-a6c4dae69d19",
    "_uuid": "8f2839f25d086af736a60e9eeb907d3b93b6e0e5",
    "execution": {
     "iopub.execute_input": "2024-03-12T19:08:29.390791Z",
     "iopub.status.busy": "2024-03-12T19:08:29.389972Z",
     "iopub.status.idle": "2024-03-12T19:08:32.213523Z",
     "shell.execute_reply": "2024-03-12T19:08:32.211950Z"
    },
    "papermill": {
     "duration": 2.846698,
     "end_time": "2024-03-12T19:08:32.216252",
     "exception": false,
     "start_time": "2024-03-12T19:08:29.369554",
     "status": "completed"
    },
    "tags": []
   },
   "outputs": [
    {
     "name": "stdout",
     "output_type": "stream",
     "text": [
      "/kaggle/input/ml-olympiad-sustainable-urban-living/sample_submission.csv\n",
      "/kaggle/input/ml-olympiad-sustainable-urban-living/train.csv\n",
      "/kaggle/input/ml-olympiad-sustainable-urban-living/test.csv\n"
     ]
    }
   ],
   "source": [
    "# This Python 3 environment comes with many helpful analytics libraries installed\n",
    "# It is defined by the kaggle/python Docker image: https://github.com/kaggle/docker-python\n",
    "# For example, here's several helpful packages to load\n",
    "\n",
    "import numpy as np # linear algebra\n",
    "import pandas as pd # data processing, CSV file I/O (e.g. pd.read_csv)\n",
    "import matplotlib.pyplot as plt\n",
    "import seaborn as sns\n",
    "# Input data files are available in the read-only \"../input/\" directory\n",
    "# For example, running this (by clicking run or pressing Shift+Enter) will list all files under the input directory\n",
    "\n",
    "import os\n",
    "for dirname, _, filenames in os.walk('/kaggle/input'):\n",
    "    for filename in filenames:\n",
    "        print(os.path.join(dirname, filename))\n",
    "\n",
    "# You can write up to 20GB to the current directory (/kaggle/working/) that gets preserved as output when you create a version using \"Save & Run All\" \n",
    "# You can also write temporary files to /kaggle/temp/, but they won't be saved outside of the current session"
   ]
  },
  {
   "cell_type": "code",
   "execution_count": 2,
   "id": "dda23444",
   "metadata": {
    "execution": {
     "iopub.execute_input": "2024-03-12T19:08:32.253445Z",
     "iopub.status.busy": "2024-03-12T19:08:32.252827Z",
     "iopub.status.idle": "2024-03-12T19:08:32.434957Z",
     "shell.execute_reply": "2024-03-12T19:08:32.433508Z"
    },
    "papermill": {
     "duration": 0.204248,
     "end_time": "2024-03-12T19:08:32.438082",
     "exception": false,
     "start_time": "2024-03-12T19:08:32.233834",
     "status": "completed"
    },
    "tags": []
   },
   "outputs": [],
   "source": [
    "df_house = pd.read_csv(\"/kaggle/input/ml-olympiad-sustainable-urban-living/train.csv\")"
   ]
  },
  {
   "cell_type": "markdown",
   "id": "89495dd4",
   "metadata": {
    "papermill": {
     "duration": 0.017331,
     "end_time": "2024-03-12T19:08:32.473779",
     "exception": false,
     "start_time": "2024-03-12T19:08:32.456448",
     "status": "completed"
    },
    "tags": []
   },
   "source": []
  },
  {
   "cell_type": "code",
   "execution_count": 3,
   "id": "51f7071e",
   "metadata": {
    "execution": {
     "iopub.execute_input": "2024-03-12T19:08:32.511533Z",
     "iopub.status.busy": "2024-03-12T19:08:32.511091Z",
     "iopub.status.idle": "2024-03-12T19:08:32.566341Z",
     "shell.execute_reply": "2024-03-12T19:08:32.564683Z"
    },
    "papermill": {
     "duration": 0.077042,
     "end_time": "2024-03-12T19:08:32.569330",
     "exception": false,
     "start_time": "2024-03-12T19:08:32.492288",
     "status": "completed"
    },
    "tags": []
   },
   "outputs": [
    {
     "name": "stdout",
     "output_type": "stream",
     "text": [
      "       Property_Area  Number_of_Windows  Number_of_Doors  \\\n",
      "count   31599.000000       30266.000000     31599.000000   \n",
      "mean     1392.563784           3.926254         2.333745   \n",
      "std      1950.693832           2.694485         1.178326   \n",
      "min       100.000000           0.000000         1.000000   \n",
      "25%       495.000000           2.000000         1.000000   \n",
      "50%       932.000000           4.000000         2.000000   \n",
      "75%      1767.000000           5.000000         3.000000   \n",
      "max     28064.000000          15.000000         6.000000   \n",
      "\n",
      "       Frequency_of_Powercuts  Traffic_Density_Score  Air_Quality_Index  \\\n",
      "count            30490.000000           31599.000000       31599.000000   \n",
      "mean                 0.486684               6.356843         121.378588   \n",
      "std                  0.755209               1.219395          62.071787   \n",
      "min                  0.000000               0.000000           0.000000   \n",
      "25%                  0.000000               5.610000          95.000000   \n",
      "50%                  0.000000               6.470000         113.000000   \n",
      "75%                  1.000000               7.220000         140.000000   \n",
      "max                  3.000000               9.910000        1044.000000   \n",
      "\n",
      "       Neighborhood_Review  Habitability_score  \n",
      "count         31599.000000         31599.00000  \n",
      "mean              3.733128            73.43742  \n",
      "std               0.798300            14.14674  \n",
      "min               0.240000             7.28000  \n",
      "25%               3.220000            69.64000  \n",
      "50%               3.850000            75.75000  \n",
      "75%               4.240000            82.20000  \n",
      "max               5.000000           100.00000  \n"
     ]
    }
   ],
   "source": [
    "print(df_house.describe())"
   ]
  },
  {
   "cell_type": "markdown",
   "id": "256e8d42",
   "metadata": {
    "papermill": {
     "duration": 0.017127,
     "end_time": "2024-03-12T19:08:32.604296",
     "exception": false,
     "start_time": "2024-03-12T19:08:32.587169",
     "status": "completed"
    },
    "tags": []
   },
   "source": [
    "# Handeling Missing Values"
   ]
  },
  {
   "cell_type": "code",
   "execution_count": 4,
   "id": "16ac67f1",
   "metadata": {
    "execution": {
     "iopub.execute_input": "2024-03-12T19:08:32.641132Z",
     "iopub.status.busy": "2024-03-12T19:08:32.640656Z",
     "iopub.status.idle": "2024-03-12T19:08:32.653316Z",
     "shell.execute_reply": "2024-03-12T19:08:32.651771Z"
    },
    "papermill": {
     "duration": 0.034171,
     "end_time": "2024-03-12T19:08:32.655916",
     "exception": false,
     "start_time": "2024-03-12T19:08:32.621745",
     "status": "completed"
    },
    "tags": []
   },
   "outputs": [
    {
     "name": "stdout",
     "output_type": "stream",
     "text": [
      "8\n",
      "7\n"
     ]
    }
   ],
   "source": [
    "#First identify numerical and categorical columns\n",
    "\n",
    "# Identify numeric and categorical columns\n",
    "numeric_columns = df_house.select_dtypes(include=['number']).columns.tolist()\n",
    "categorical_columns = df_house.select_dtypes(include=['object', 'category']).columns.tolist()\n",
    "\n",
    "print(len(numeric_columns))\n",
    "print(len(categorical_columns))"
   ]
  },
  {
   "cell_type": "code",
   "execution_count": 5,
   "id": "a1da3b7c",
   "metadata": {
    "execution": {
     "iopub.execute_input": "2024-03-12T19:08:32.693358Z",
     "iopub.status.busy": "2024-03-12T19:08:32.692865Z",
     "iopub.status.idle": "2024-03-12T19:08:32.843350Z",
     "shell.execute_reply": "2024-03-12T19:08:32.841679Z"
    },
    "papermill": {
     "duration": 0.17284,
     "end_time": "2024-03-12T19:08:32.846484",
     "exception": false,
     "start_time": "2024-03-12T19:08:32.673644",
     "status": "completed"
    },
    "tags": []
   },
   "outputs": [],
   "source": [
    "for col in numeric_columns:\n",
    "    df_house.fillna({col: df_house[col].median()}, inplace=True)\n",
    "\n",
    "# Fill missing values for categorical columns with mode\n",
    "for col in categorical_columns:\n",
    "    df_house.fillna({col: df_house[col].mode()[0]}, inplace=True)"
   ]
  },
  {
   "cell_type": "code",
   "execution_count": 6,
   "id": "d67af6ee",
   "metadata": {
    "execution": {
     "iopub.execute_input": "2024-03-12T19:08:32.885463Z",
     "iopub.status.busy": "2024-03-12T19:08:32.885009Z",
     "iopub.status.idle": "2024-03-12T19:08:32.919155Z",
     "shell.execute_reply": "2024-03-12T19:08:32.917370Z"
    },
    "papermill": {
     "duration": 0.057034,
     "end_time": "2024-03-12T19:08:32.922071",
     "exception": false,
     "start_time": "2024-03-12T19:08:32.865037",
     "status": "completed"
    },
    "tags": []
   },
   "outputs": [
    {
     "name": "stdout",
     "output_type": "stream",
     "text": [
      "Id                        0\n",
      "Property_Type             0\n",
      "Property_Area             0\n",
      "Number_of_Windows         0\n",
      "Number_of_Doors           0\n",
      "Furnishing                0\n",
      "Frequency_of_Powercuts    0\n",
      "Power_Backup              0\n",
      "Water_Supply              0\n",
      "Traffic_Density_Score     0\n",
      "Crime_Rate                0\n",
      "Dust_and_Noise            0\n",
      "Air_Quality_Index         0\n",
      "Neighborhood_Review       0\n",
      "Habitability_score        0\n",
      "dtype: int64\n"
     ]
    }
   ],
   "source": [
    "df_house.head(20)\n",
    "print(df_house.isnull().sum())\n",
    "#All the nan values have been replaced by median and mode"
   ]
  },
  {
   "cell_type": "markdown",
   "id": "741ff5c0",
   "metadata": {
    "papermill": {
     "duration": 0.017429,
     "end_time": "2024-03-12T19:08:32.957827",
     "exception": false,
     "start_time": "2024-03-12T19:08:32.940398",
     "status": "completed"
    },
    "tags": []
   },
   "source": [
    "# **Encoding**"
   ]
  },
  {
   "cell_type": "code",
   "execution_count": 7,
   "id": "10fa633a",
   "metadata": {
    "execution": {
     "iopub.execute_input": "2024-03-12T19:08:32.995322Z",
     "iopub.status.busy": "2024-03-12T19:08:32.994822Z",
     "iopub.status.idle": "2024-03-12T19:08:33.001298Z",
     "shell.execute_reply": "2024-03-12T19:08:32.999756Z"
    },
    "papermill": {
     "duration": 0.028617,
     "end_time": "2024-03-12T19:08:33.004332",
     "exception": false,
     "start_time": "2024-03-12T19:08:32.975715",
     "status": "completed"
    },
    "tags": []
   },
   "outputs": [],
   "source": [
    "  #Ebcoding categorical variables to numerical\n",
    "   # Property_Type\n",
    "   # Furnishing\n",
    "   # Power_Backup\n",
    "   # Water_Supply\n",
    "   # Crime_Rate\n",
    "   # Dust_and_Noise\n",
    "    "
   ]
  },
  {
   "cell_type": "code",
   "execution_count": 8,
   "id": "60bfc60a",
   "metadata": {
    "execution": {
     "iopub.execute_input": "2024-03-12T19:08:33.043040Z",
     "iopub.status.busy": "2024-03-12T19:08:33.041678Z",
     "iopub.status.idle": "2024-03-12T19:08:33.067167Z",
     "shell.execute_reply": "2024-03-12T19:08:33.065919Z"
    },
    "papermill": {
     "duration": 0.047714,
     "end_time": "2024-03-12T19:08:33.070142",
     "exception": false,
     "start_time": "2024-03-12T19:08:33.022428",
     "status": "completed"
    },
    "tags": []
   },
   "outputs": [
    {
     "name": "stdout",
     "output_type": "stream",
     "text": [
      "['Apartment' 'Bungalow' 'Single-family home' 'Duplex' '#R%$G&867'\n",
      " 'Container Home']\n",
      "0        1\n",
      "1        1\n",
      "2        1\n",
      "3        1\n",
      "4        2\n",
      "        ..\n",
      "31594    1\n",
      "31595    6\n",
      "31596    4\n",
      "31597    1\n",
      "31598    3\n",
      "Name: Property_Type, Length: 31599, dtype: int64\n"
     ]
    }
   ],
   "source": [
    "#Property_Type- Lable encoding  1,2,3,4,5,6\n",
    "unique_values_1 = df_house['Property_Type'].unique()\n",
    "print(unique_values_1)\n",
    "\n",
    "# Mapping dictionary\n",
    "mapping = {\"Apartment\": 1, \"Bungalow\": 2,\"Single-family home\": 3, \"Duplex\": 4, \"#R%$G&867\":5, \"Container Home\": 6}\n",
    "\n",
    "df_house[\"Property_Type\"] = df_house[\"Property_Type\"].map(mapping)\n",
    "\n",
    "\n",
    "df_house.rename(columns={\"Property_Type\": \"Property_Type\"}, inplace=True)\n",
    "\n",
    "print(df_house[\"Property_Type\"])"
   ]
  },
  {
   "cell_type": "code",
   "execution_count": 9,
   "id": "35a3d17b",
   "metadata": {
    "execution": {
     "iopub.execute_input": "2024-03-12T19:08:33.108495Z",
     "iopub.status.busy": "2024-03-12T19:08:33.107933Z",
     "iopub.status.idle": "2024-03-12T19:08:33.127411Z",
     "shell.execute_reply": "2024-03-12T19:08:33.126220Z"
    },
    "papermill": {
     "duration": 0.042188,
     "end_time": "2024-03-12T19:08:33.130293",
     "exception": false,
     "start_time": "2024-03-12T19:08:33.088105",
     "status": "completed"
    },
    "tags": []
   },
   "outputs": [
    {
     "name": "stdout",
     "output_type": "stream",
     "text": [
      "['Semi_Furnished' 'Unfurnished' 'Fully Furnished']\n",
      "0        1\n",
      "1        2\n",
      "2        3\n",
      "3        2\n",
      "4        3\n",
      "        ..\n",
      "31594    1\n",
      "31595    3\n",
      "31596    1\n",
      "31597    1\n",
      "31598    1\n",
      "Name: Furnishing, Length: 31599, dtype: int64\n"
     ]
    }
   ],
   "source": [
    "# Furnishing- ordinal encoding \n",
    "#Semi_Furnished -1\n",
    "#Unfurnished-2\n",
    "#Fully Furnished-3\n",
    "unique_values_2=df_house['Furnishing'].unique()\n",
    "print(unique_values_2)\n",
    "\n",
    "# Mapping dictionary\n",
    "mapping = {\"Semi_Furnished\": 1, \"Unfurnished\": 2,\"Fully Furnished\": 3 }\n",
    "\n",
    "df_house[\"Furnishing\"] = df_house[\"Furnishing\"].map(mapping)\n",
    "\n",
    "\n",
    "df_house.rename(columns={\"Furnishing\": \"Furnishing\"}, inplace=True)\n",
    "\n",
    "print(df_house[\"Furnishing\"])"
   ]
  },
  {
   "cell_type": "code",
   "execution_count": 10,
   "id": "4fac556b",
   "metadata": {
    "execution": {
     "iopub.execute_input": "2024-03-12T19:08:33.168513Z",
     "iopub.status.busy": "2024-03-12T19:08:33.168059Z",
     "iopub.status.idle": "2024-03-12T19:08:33.177212Z",
     "shell.execute_reply": "2024-03-12T19:08:33.175815Z"
    },
    "papermill": {
     "duration": 0.03117,
     "end_time": "2024-03-12T19:08:33.179577",
     "exception": false,
     "start_time": "2024-03-12T19:08:33.148407",
     "status": "completed"
    },
    "tags": []
   },
   "outputs": [
    {
     "name": "stdout",
     "output_type": "stream",
     "text": [
      "['No' 'Yes' 'NOT MENTIONED']\n"
     ]
    }
   ],
   "source": [
    " # Power_Backup-One hot encoder\n",
    "unique_values_3=df_house['Power_Backup'].unique()\n",
    "print(unique_values_3)\n",
    "\n"
   ]
  },
  {
   "cell_type": "code",
   "execution_count": 11,
   "id": "08b9c3b6",
   "metadata": {
    "execution": {
     "iopub.execute_input": "2024-03-12T19:08:33.217806Z",
     "iopub.status.busy": "2024-03-12T19:08:33.217385Z",
     "iopub.status.idle": "2024-03-12T19:08:33.253620Z",
     "shell.execute_reply": "2024-03-12T19:08:33.252609Z"
    },
    "papermill": {
     "duration": 0.05852,
     "end_time": "2024-03-12T19:08:33.256364",
     "exception": false,
     "start_time": "2024-03-12T19:08:33.197844",
     "status": "completed"
    },
    "tags": []
   },
   "outputs": [
    {
     "name": "stdout",
     "output_type": "stream",
     "text": [
      "       Id  Property_Type  Property_Area  Number_of_Windows  Number_of_Doors  \\\n",
      "0  0x21e3              1            106                4.0                1   \n",
      "1  0x68d4              1            733                2.0                2   \n",
      "2  0x7d81              1            737                4.0                2   \n",
      "3  0x7a57              1            900                3.0                2   \n",
      "4  0x9409              2           2238               14.0                6   \n",
      "\n",
      "   Furnishing  Frequency_of_Powercuts             Water_Supply  \\\n",
      "0           1                     0.0  Once in a day - Morning   \n",
      "1           2                     1.0  Once in a day - Evening   \n",
      "2           3                     0.0  Once in a day - Morning   \n",
      "3           2                     2.0  Once in a day - Morning   \n",
      "4           3                     0.0                 All time   \n",
      "\n",
      "   Traffic_Density_Score              Crime_Rate Dust_and_Noise  \\\n",
      "0                   5.89  Slightly below average         Medium   \n",
      "1                   4.37      Well below average         Medium   \n",
      "2                   7.45  Slightly below average         Medium   \n",
      "3                   6.16      Well above average         Medium   \n",
      "4                   5.46      Well below average         Medium   \n",
      "\n",
      "   Air_Quality_Index  Neighborhood_Review  Habitability_score  NOT MENTIONED  \\\n",
      "0               90.0                 3.86               71.98          False   \n",
      "1               96.0                 3.55               71.20          False   \n",
      "2              121.0                 3.81               71.39          False   \n",
      "3              100.0                 1.34               31.46          False   \n",
      "4              116.0                 4.77               93.70          False   \n",
      "\n",
      "      No    Yes  \n",
      "0   True  False  \n",
      "1   True  False  \n",
      "2   True  False  \n",
      "3  False   True  \n",
      "4   True  False  \n"
     ]
    }
   ],
   "source": [
    "one_hot_encoded = pd.get_dummies(df_house['Power_Backup'])\n",
    "\n",
    " #Concatenate the one-hot encoded columns with the original DataFrame\n",
    "df_house = pd.concat([df_house.drop('Power_Backup', axis=1), one_hot_encoded], axis=1)\n",
    "\n",
    "print(df_house.head())"
   ]
  },
  {
   "cell_type": "code",
   "execution_count": 12,
   "id": "dcf908c1",
   "metadata": {
    "execution": {
     "iopub.execute_input": "2024-03-12T19:08:33.297454Z",
     "iopub.status.busy": "2024-03-12T19:08:33.296971Z",
     "iopub.status.idle": "2024-03-12T19:08:33.315605Z",
     "shell.execute_reply": "2024-03-12T19:08:33.314037Z"
    },
    "papermill": {
     "duration": 0.044638,
     "end_time": "2024-03-12T19:08:33.319425",
     "exception": false,
     "start_time": "2024-03-12T19:08:33.274787",
     "status": "completed"
    },
    "tags": []
   },
   "outputs": [
    {
     "name": "stdout",
     "output_type": "stream",
     "text": [
      "['Once in a day - Morning' 'Once in a day - Evening' 'All time'\n",
      " 'NOT MENTIONED' 'Once in two days']\n",
      "0        1\n",
      "1        2\n",
      "2        1\n",
      "3        1\n",
      "4        3\n",
      "        ..\n",
      "31594    3\n",
      "31595    1\n",
      "31596    4\n",
      "31597    1\n",
      "31598    2\n",
      "Name: Water_Supply, Length: 31599, dtype: int64\n"
     ]
    }
   ],
   "source": [
    "# Water_Supply- lable encoding\n",
    "#Once in a day - Morning  -1\n",
    "#Once in a day - Evening  -2\n",
    "#All time- 3\n",
    "#NOT MENTIONED -0\n",
    "#Once in two days -4\n",
    "unique_values_4=df_house['Water_Supply'].unique()\n",
    "print(unique_values_4)\n",
    "\n",
    "# Mapping dictionary\n",
    "mapping = {\"Once in a day - Morning\": 1, \"Once in a day - Evening\": 2,\"All time\": 3, \"Once in two days\": 4, \"NOT MENTIONED\":0 }\n",
    "\n",
    "df_house[\"Water_Supply\"] = df_house[\"Water_Supply\"].map(mapping)\n",
    "\n",
    "\n",
    "df_house.rename(columns={\"Water_Supply\": \"Water_Supply\"}, inplace=True)\n",
    "\n",
    "print(df_house[\"Water_Supply\"])"
   ]
  },
  {
   "cell_type": "code",
   "execution_count": 13,
   "id": "7fd21889",
   "metadata": {
    "execution": {
     "iopub.execute_input": "2024-03-12T19:08:33.359666Z",
     "iopub.status.busy": "2024-03-12T19:08:33.359240Z",
     "iopub.status.idle": "2024-03-12T19:08:33.377647Z",
     "shell.execute_reply": "2024-03-12T19:08:33.376474Z"
    },
    "papermill": {
     "duration": 0.041526,
     "end_time": "2024-03-12T19:08:33.380454",
     "exception": false,
     "start_time": "2024-03-12T19:08:33.338928",
     "status": "completed"
    },
    "tags": []
   },
   "outputs": [
    {
     "name": "stdout",
     "output_type": "stream",
     "text": [
      "['Slightly below average' 'Well below average' 'Well above average'\n",
      " 'Slightly above average']\n",
      "0        1\n",
      "1        2\n",
      "2        1\n",
      "3        3\n",
      "4        2\n",
      "        ..\n",
      "31594    2\n",
      "31595    2\n",
      "31596    2\n",
      "31597    2\n",
      "31598    2\n",
      "Name: Crime_Rate, Length: 31599, dtype: int64\n"
     ]
    }
   ],
   "source": [
    "# Crime_Rate- Ordinal encoding \n",
    "#Slightly below average-1\n",
    "#Well below average-2\n",
    "#Well above average-3\n",
    "#Slightly above average-4\n",
    "unique_values_6=df_house['Crime_Rate'].unique()\n",
    "print(unique_values_6)\n",
    "\n",
    "# Mapping dictionary\n",
    "mapping = {\"Slightly below average\": 1, \"Well below average\": 2,\"Well above average\": 3, \"Slightly above average\": 4 }\n",
    "\n",
    "df_house[\"Crime_Rate\"] = df_house[\"Crime_Rate\"].map(mapping)\n",
    "\n",
    "\n",
    "df_house.rename(columns={\"Crime_Rate\": \"Crime_Rate\"}, inplace=True)\n",
    "\n",
    "print(df_house[\"Crime_Rate\"])"
   ]
  },
  {
   "cell_type": "code",
   "execution_count": 14,
   "id": "37003542",
   "metadata": {
    "execution": {
     "iopub.execute_input": "2024-03-12T19:08:33.419750Z",
     "iopub.status.busy": "2024-03-12T19:08:33.418921Z",
     "iopub.status.idle": "2024-03-12T19:08:33.436381Z",
     "shell.execute_reply": "2024-03-12T19:08:33.435163Z"
    },
    "papermill": {
     "duration": 0.040162,
     "end_time": "2024-03-12T19:08:33.438968",
     "exception": false,
     "start_time": "2024-03-12T19:08:33.398806",
     "status": "completed"
    },
    "tags": []
   },
   "outputs": [
    {
     "name": "stdout",
     "output_type": "stream",
     "text": [
      "['Medium' 'High' 'Low']\n",
      "0        2\n",
      "1        2\n",
      "2        2\n",
      "3        2\n",
      "4        2\n",
      "        ..\n",
      "31594    2\n",
      "31595    2\n",
      "31596    2\n",
      "31597    2\n",
      "31598    2\n",
      "Name: Dust_and_Noise, Length: 31599, dtype: int64\n"
     ]
    }
   ],
   "source": [
    "# Dust_and_Noise- Ordinal encoding\n",
    "#  'Low''Medium' 'High' = 1,2,3\n",
    "unique_values_7=df_house['Dust_and_Noise'].unique()\n",
    "print(unique_values_7)\n",
    "\n",
    "# Mapping dictionary\n",
    "mapping = {\"Low\": 1, \"Medium\": 2,\"High\": 3 }\n",
    "\n",
    "df_house[\"Dust_and_Noise\"] = df_house[\"Dust_and_Noise\"].map(mapping)\n",
    "\n",
    "\n",
    "df_house.rename(columns={\"Dust_and_Noise\": \"Dust_and_Noise\"}, inplace=True)\n",
    "\n",
    "print(df_house[\"Dust_and_Noise\"])"
   ]
  },
  {
   "cell_type": "code",
   "execution_count": 15,
   "id": "745267dc",
   "metadata": {
    "execution": {
     "iopub.execute_input": "2024-03-12T19:08:33.478530Z",
     "iopub.status.busy": "2024-03-12T19:08:33.478051Z",
     "iopub.status.idle": "2024-03-12T19:08:33.498835Z",
     "shell.execute_reply": "2024-03-12T19:08:33.497486Z"
    },
    "papermill": {
     "duration": 0.044889,
     "end_time": "2024-03-12T19:08:33.502912",
     "exception": false,
     "start_time": "2024-03-12T19:08:33.458023",
     "status": "completed"
    },
    "tags": []
   },
   "outputs": [
    {
     "name": "stdout",
     "output_type": "stream",
     "text": [
      "        Id  Property_Type  Property_Area  Number_of_Windows  Number_of_Doors  \\\n",
      "0   0x21e3              1            106                4.0                1   \n",
      "1   0x68d4              1            733                2.0                2   \n",
      "2   0x7d81              1            737                4.0                2   \n",
      "3   0x7a57              1            900                3.0                2   \n",
      "4   0x9409              2           2238               14.0                6   \n",
      "5   0xbe4e              3           1185                3.0                3   \n",
      "6    0xe2a              3           1779                3.0                3   \n",
      "7   0x2ea5              4           1281                5.0                2   \n",
      "8   0x7a83              1            268                1.0                3   \n",
      "9   0xb0fb              1            159                2.0                2   \n",
      "10  0xaf2f              1            521                1.0                2   \n",
      "11  0x6ffb              2           2164               13.0                4   \n",
      "12  0x6aca              3           1620                3.0                4   \n",
      "13  0x6d10              3           1359                4.0                1   \n",
      "14   0xc4a              1            416                3.0                1   \n",
      "15  0x5d35              1            795                1.0                1   \n",
      "16  0x363e              1            508                2.0                1   \n",
      "17  0xb079              4            436                5.0                1   \n",
      "18  0x8b21              3           1735                5.0                3   \n",
      "19  0x9e0d              1            497                4.0                3   \n",
      "\n",
      "    Furnishing  Frequency_of_Powercuts  Water_Supply  Traffic_Density_Score  \\\n",
      "0            1                     0.0             1                   5.89   \n",
      "1            2                     1.0             2                   4.37   \n",
      "2            3                     0.0             1                   7.45   \n",
      "3            2                     2.0             1                   6.16   \n",
      "4            3                     0.0             3                   5.46   \n",
      "5            2                     0.0             1                   5.69   \n",
      "6            1                     0.0             2                   7.43   \n",
      "7            1                     3.0             3                   7.72   \n",
      "8            1                     1.0             3                   6.13   \n",
      "9            1                     0.0             1                   6.77   \n",
      "10           1                     0.0             3                   4.14   \n",
      "11           1                     1.0             2                   6.09   \n",
      "12           1                     0.0             3                   6.08   \n",
      "13           1                     0.0             1                   6.96   \n",
      "14           2                     0.0             2                   6.99   \n",
      "15           3                     0.0             0                   6.92   \n",
      "16           2                     0.0             3                   6.41   \n",
      "17           3                     0.0             1                   6.70   \n",
      "18           2                     0.0             2                   6.47   \n",
      "19           3                     2.0             4                   5.74   \n",
      "\n",
      "    Crime_Rate  Dust_and_Noise  Air_Quality_Index  Neighborhood_Review  \\\n",
      "0            1               2               90.0                 3.86   \n",
      "1            2               2               96.0                 3.55   \n",
      "2            1               2              121.0                 3.81   \n",
      "3            3               2              100.0                 1.34   \n",
      "4            2               2              116.0                 4.77   \n",
      "5            2               2               91.0                 4.49   \n",
      "6            2               2              100.0                 2.90   \n",
      "7            3               2              143.0                 0.96   \n",
      "8            2               2               94.0                 4.17   \n",
      "9            2               2               90.0                 4.48   \n",
      "10           2               2               89.0                 4.82   \n",
      "11           2               2              105.0                 3.53   \n",
      "12           2               2              143.0                 4.74   \n",
      "13           2               2               84.0                 4.49   \n",
      "14           2               2              117.0                 4.14   \n",
      "15           2               2              169.0                 4.07   \n",
      "16           1               2              131.0                 4.12   \n",
      "17           3               2              102.0                 2.59   \n",
      "18           4               2              164.0                 2.82   \n",
      "19           1               2              103.0                 1.96   \n",
      "\n",
      "    Habitability_score  NOT MENTIONED     No    Yes  \n",
      "0                71.98          False   True  False  \n",
      "1                71.20          False   True  False  \n",
      "2                71.39          False   True  False  \n",
      "3                31.46          False  False   True  \n",
      "4                93.70          False   True  False  \n",
      "5                82.94          False   True  False  \n",
      "6                74.88          False   True  False  \n",
      "7                28.54          False   True  False  \n",
      "8                88.11          False   True  False  \n",
      "9                80.65          False  False   True  \n",
      "10               73.51          False   True  False  \n",
      "11               87.91          False   True  False  \n",
      "12               76.86          False   True  False  \n",
      "13               71.31          False   True  False  \n",
      "14               72.35          False  False   True  \n",
      "15               79.82          False   True  False  \n",
      "16               72.19          False   True  False  \n",
      "17               83.68          False   True  False  \n",
      "18               77.28          False  False   True  \n",
      "19               73.46          False   True  False  \n"
     ]
    }
   ],
   "source": [
    "#Dataframe after doing feature encoding and filling missing values\n",
    "print(df_house.head(20))"
   ]
  },
  {
   "cell_type": "markdown",
   "id": "695855ab",
   "metadata": {
    "papermill": {
     "duration": 0.01839,
     "end_time": "2024-03-12T19:08:33.540575",
     "exception": false,
     "start_time": "2024-03-12T19:08:33.522185",
     "status": "completed"
    },
    "tags": []
   },
   "source": []
  },
  {
   "cell_type": "markdown",
   "id": "56e83be7",
   "metadata": {
    "papermill": {
     "duration": 0.018812,
     "end_time": "2024-03-12T19:08:33.578335",
     "exception": false,
     "start_time": "2024-03-12T19:08:33.559523",
     "status": "completed"
    },
    "tags": []
   },
   "source": [
    "# Correlation"
   ]
  },
  {
   "cell_type": "code",
   "execution_count": 16,
   "id": "1c98ee8e",
   "metadata": {
    "execution": {
     "iopub.execute_input": "2024-03-12T19:08:33.618309Z",
     "iopub.status.busy": "2024-03-12T19:08:33.617744Z",
     "iopub.status.idle": "2024-03-12T19:08:33.623412Z",
     "shell.execute_reply": "2024-03-12T19:08:33.622235Z"
    },
    "papermill": {
     "duration": 0.028655,
     "end_time": "2024-03-12T19:08:33.625900",
     "exception": false,
     "start_time": "2024-03-12T19:08:33.597245",
     "status": "completed"
    },
    "tags": []
   },
   "outputs": [],
   "source": [
    "#def hex_to_decimal(hex_value):\n",
    "#    return int(hex_value, 16)\n",
    "\n",
    "# Apply the function to the column containing hexadecimal values\n",
    "#df_house['decimal_ID'] = df_house['Id'].apply(hex_to_decimal)"
   ]
  },
  {
   "cell_type": "code",
   "execution_count": null,
   "id": "2c09ebf9",
   "metadata": {
    "papermill": {
     "duration": 0.108,
     "end_time": "2024-03-12T19:08:33.753290",
     "exception": false,
     "start_time": "2024-03-12T19:08:33.645290",
     "status": "completed"
    },
    "tags": []
   },
   "outputs": [],
   "source": []
  },
  {
   "cell_type": "code",
   "execution_count": 17,
   "id": "ee2f1c9b",
   "metadata": {
    "execution": {
     "iopub.execute_input": "2024-03-12T19:08:33.794224Z",
     "iopub.status.busy": "2024-03-12T19:08:33.793695Z",
     "iopub.status.idle": "2024-03-12T19:08:33.809259Z",
     "shell.execute_reply": "2024-03-12T19:08:33.807563Z"
    },
    "papermill": {
     "duration": 0.039746,
     "end_time": "2024-03-12T19:08:33.812239",
     "exception": false,
     "start_time": "2024-03-12T19:08:33.772493",
     "status": "completed"
    },
    "tags": []
   },
   "outputs": [
    {
     "name": "stdout",
     "output_type": "stream",
     "text": [
      "       Id  Property_Type  Property_Area  Number_of_Windows  Number_of_Doors  \\\n",
      "0  0x21e3              1            106                4.0                1   \n",
      "1  0x68d4              1            733                2.0                2   \n",
      "2  0x7d81              1            737                4.0                2   \n",
      "3  0x7a57              1            900                3.0                2   \n",
      "4  0x9409              2           2238               14.0                6   \n",
      "\n",
      "   Furnishing  Frequency_of_Powercuts  Water_Supply  Traffic_Density_Score  \\\n",
      "0           1                     0.0             1                   5.89   \n",
      "1           2                     1.0             2                   4.37   \n",
      "2           3                     0.0             1                   7.45   \n",
      "3           2                     2.0             1                   6.16   \n",
      "4           3                     0.0             3                   5.46   \n",
      "\n",
      "   Crime_Rate  Dust_and_Noise  Air_Quality_Index  Neighborhood_Review  \\\n",
      "0           1               2               90.0                 3.86   \n",
      "1           2               2               96.0                 3.55   \n",
      "2           1               2              121.0                 3.81   \n",
      "3           3               2              100.0                 1.34   \n",
      "4           2               2              116.0                 4.77   \n",
      "\n",
      "   Habitability_score  NOT MENTIONED     No    Yes  \n",
      "0               71.98          False   True  False  \n",
      "1               71.20          False   True  False  \n",
      "2               71.39          False   True  False  \n",
      "3               31.46          False  False   True  \n",
      "4               93.70          False   True  False  \n"
     ]
    }
   ],
   "source": [
    "print(df_house.head())"
   ]
  },
  {
   "cell_type": "code",
   "execution_count": 18,
   "id": "a67b6ed3",
   "metadata": {
    "execution": {
     "iopub.execute_input": "2024-03-12T19:08:33.854043Z",
     "iopub.status.busy": "2024-03-12T19:08:33.853581Z",
     "iopub.status.idle": "2024-03-12T19:08:33.906144Z",
     "shell.execute_reply": "2024-03-12T19:08:33.904548Z"
    },
    "papermill": {
     "duration": 0.078643,
     "end_time": "2024-03-12T19:08:33.910321",
     "exception": false,
     "start_time": "2024-03-12T19:08:33.831678",
     "status": "completed"
    },
    "tags": []
   },
   "outputs": [
    {
     "name": "stdout",
     "output_type": "stream",
     "text": [
      "Correlation Matrix (ignoring feature_to_ignore):\n",
      "                        Property_Type  Property_Area  Number_of_Windows  \\\n",
      "Property_Type                1.000000       0.023263           0.037676   \n",
      "Property_Area                0.023263       1.000000           0.259347   \n",
      "Number_of_Windows            0.037676       0.259347           1.000000   \n",
      "Number_of_Doors             -0.096447       0.217901           0.389537   \n",
      "Furnishing                   0.001839       0.006356           0.008621   \n",
      "Frequency_of_Powercuts       0.003515      -0.000303          -0.007482   \n",
      "Water_Supply                 0.004789       0.004221           0.006133   \n",
      "Traffic_Density_Score       -0.001353       0.003493           0.000010   \n",
      "Crime_Rate                   0.000931      -0.014801          -0.002107   \n",
      "Dust_and_Noise              -0.003657       0.006826          -0.001877   \n",
      "Air_Quality_Index           -0.003446       0.000174           0.002666   \n",
      "Neighborhood_Review          0.003816       0.014429           0.009140   \n",
      "Habitability_score           0.021214       0.066577           0.096664   \n",
      "NOT MENTIONED                0.001426       0.003371           0.002562   \n",
      "No                           0.001036      -0.008132          -0.005042   \n",
      "Yes                         -0.001564       0.007223           0.004314   \n",
      "\n",
      "                        Number_of_Doors  Furnishing  Frequency_of_Powercuts  \\\n",
      "Property_Type                 -0.096447    0.001839                0.003515   \n",
      "Property_Area                  0.217901    0.006356               -0.000303   \n",
      "Number_of_Windows              0.389537    0.008621               -0.007482   \n",
      "Number_of_Doors                1.000000    0.006944               -0.002999   \n",
      "Furnishing                     0.006944    1.000000                0.011033   \n",
      "Frequency_of_Powercuts        -0.002999    0.011033                1.000000   \n",
      "Water_Supply                   0.007664   -0.010171                0.000623   \n",
      "Traffic_Density_Score         -0.002226    0.007749               -0.008423   \n",
      "Crime_Rate                    -0.009114    0.001913               -0.000205   \n",
      "Dust_and_Noise                 0.005892    0.000355                0.002669   \n",
      "Air_Quality_Index              0.001370    0.002489               -0.009645   \n",
      "Neighborhood_Review           -0.000697   -0.010654               -0.579229   \n",
      "Habitability_score             0.075017    0.039647               -0.232064   \n",
      "NOT MENTIONED                 -0.000299   -0.000946               -0.002880   \n",
      "No                            -0.007025    0.009018               -0.003406   \n",
      "Yes                            0.007353   -0.008978                0.004515   \n",
      "\n",
      "                        Water_Supply  Traffic_Density_Score  Crime_Rate  \\\n",
      "Property_Type               0.004789              -0.001353    0.000931   \n",
      "Property_Area               0.004221               0.003493   -0.014801   \n",
      "Number_of_Windows           0.006133               0.000010   -0.002107   \n",
      "Number_of_Doors             0.007664              -0.002226   -0.009114   \n",
      "Furnishing                 -0.010171               0.007749    0.001913   \n",
      "Frequency_of_Powercuts      0.000623              -0.008423   -0.000205   \n",
      "Water_Supply                1.000000               0.003088    0.008269   \n",
      "Traffic_Density_Score       0.003088               1.000000    0.157113   \n",
      "Crime_Rate                  0.008269               0.157113    1.000000   \n",
      "Dust_and_Noise              0.006576               0.555479    0.103796   \n",
      "Air_Quality_Index           0.005210               0.301535    0.057202   \n",
      "Neighborhood_Review         0.094322              -0.016345   -0.337758   \n",
      "Habitability_score          0.026172              -0.066861   -0.256370   \n",
      "NOT MENTIONED               0.004041              -0.013700    0.003899   \n",
      "No                          0.000032               0.004976   -0.004343   \n",
      "Yes                        -0.001435              -0.000381    0.003129   \n",
      "\n",
      "                        Dust_and_Noise  Air_Quality_Index  \\\n",
      "Property_Type                -0.003657          -0.003446   \n",
      "Property_Area                 0.006826           0.000174   \n",
      "Number_of_Windows            -0.001877           0.002666   \n",
      "Number_of_Doors               0.005892           0.001370   \n",
      "Furnishing                    0.000355           0.002489   \n",
      "Frequency_of_Powercuts        0.002669          -0.009645   \n",
      "Water_Supply                  0.006576           0.005210   \n",
      "Traffic_Density_Score         0.555479           0.301535   \n",
      "Crime_Rate                    0.103796           0.057202   \n",
      "Dust_and_Noise                1.000000           0.228579   \n",
      "Air_Quality_Index             0.228579           1.000000   \n",
      "Neighborhood_Review          -0.095886          -0.022985   \n",
      "Habitability_score           -0.132944          -0.041843   \n",
      "NOT MENTIONED                -0.007646           0.003611   \n",
      "No                           -0.004594          -0.003758   \n",
      "Yes                           0.007395           0.002626   \n",
      "\n",
      "                        Neighborhood_Review  Habitability_score  \\\n",
      "Property_Type                      0.003816            0.021214   \n",
      "Property_Area                      0.014429            0.066577   \n",
      "Number_of_Windows                  0.009140            0.096664   \n",
      "Number_of_Doors                   -0.000697            0.075017   \n",
      "Furnishing                        -0.010654            0.039647   \n",
      "Frequency_of_Powercuts            -0.579229           -0.232064   \n",
      "Water_Supply                       0.094322            0.026172   \n",
      "Traffic_Density_Score             -0.016345           -0.066861   \n",
      "Crime_Rate                        -0.337758           -0.256370   \n",
      "Dust_and_Noise                    -0.095886           -0.132944   \n",
      "Air_Quality_Index                 -0.022985           -0.041843   \n",
      "Neighborhood_Review                1.000000            0.540748   \n",
      "Habitability_score                 0.540748            1.000000   \n",
      "NOT MENTIONED                      0.002071            0.000700   \n",
      "No                                 0.010240           -0.254016   \n",
      "Yes                               -0.011286            0.261890   \n",
      "\n",
      "                        NOT MENTIONED        No       Yes  \n",
      "Property_Type                0.001426  0.001036 -0.001564  \n",
      "Property_Area                0.003371 -0.008132  0.007223  \n",
      "Number_of_Windows            0.002562 -0.005042  0.004314  \n",
      "Number_of_Doors             -0.000299 -0.007025  0.007353  \n",
      "Furnishing                  -0.000946  0.009018 -0.008978  \n",
      "Frequency_of_Powercuts      -0.002880 -0.003406  0.004515  \n",
      "Water_Supply                 0.004041  0.000032 -0.001435  \n",
      "Traffic_Density_Score       -0.013700  0.004976 -0.000381  \n",
      "Crime_Rate                   0.003899 -0.004343  0.003129  \n",
      "Dust_and_Noise              -0.007646 -0.004594  0.007395  \n",
      "Air_Quality_Index            0.003611 -0.003758  0.002626  \n",
      "Neighborhood_Review          0.002071  0.010240 -0.011286  \n",
      "Habitability_score           0.000700 -0.254016  0.261890  \n",
      "NOT MENTIONED                1.000000 -0.258783 -0.079949  \n",
      "No                          -0.258783  1.000000 -0.942154  \n",
      "Yes                         -0.079949 -0.942154  1.000000  \n"
     ]
    }
   ],
   "source": [
    "# Drop the feature to ignore from the DataFrame\n",
    "df_house_new = df_house.drop('Id', axis=1)\n",
    "\n",
    "# Calculate the correlation matrix for the subset of features\n",
    "correlation_matrix = df_house_new.corr()\n",
    "\n",
    "# Print or use the correlation matrix as needed\n",
    "print(\"Correlation Matrix (ignoring feature_to_ignore):\")\n",
    "print(correlation_matrix)"
   ]
  },
  {
   "cell_type": "code",
   "execution_count": 19,
   "id": "f33d0000",
   "metadata": {
    "execution": {
     "iopub.execute_input": "2024-03-12T19:08:33.951706Z",
     "iopub.status.busy": "2024-03-12T19:08:33.951186Z",
     "iopub.status.idle": "2024-03-12T19:08:35.246804Z",
     "shell.execute_reply": "2024-03-12T19:08:35.245743Z"
    },
    "papermill": {
     "duration": 1.321041,
     "end_time": "2024-03-12T19:08:35.251062",
     "exception": false,
     "start_time": "2024-03-12T19:08:33.930021",
     "status": "completed"
    },
    "tags": []
   },
   "outputs": [
    {
     "data": {
      "image/png": "[encoded data removed]",
      "text/plain": [
       "<Figure size 1000x800 with 2 Axes>"
      ]
     },
     "metadata": {},
     "output_type": "display_data"
    }
   ],
   "source": [
    "plt.figure(figsize=(10, 8))\n",
    "sns.heatmap(correlation_matrix, annot=True, cmap='coolwarm', fmt=\".2f\", linewidths=.5)\n",
    "plt.title('Correlation Matrix Heatmap (excluding Id)')\n",
    "plt.show()"
   ]
  },
  {
   "cell_type": "code",
   "execution_count": 20,
   "id": "f37c90d7",
   "metadata": {
    "execution": {
     "iopub.execute_input": "2024-03-12T19:08:35.303081Z",
     "iopub.status.busy": "2024-03-12T19:08:35.302520Z",
     "iopub.status.idle": "2024-03-12T19:08:35.310102Z",
     "shell.execute_reply": "2024-03-12T19:08:35.309060Z"
    },
    "papermill": {
     "duration": 0.037336,
     "end_time": "2024-03-12T19:08:35.312733",
     "exception": false,
     "start_time": "2024-03-12T19:08:35.275397",
     "status": "completed"
    },
    "tags": []
   },
   "outputs": [
    {
     "data": {
      "text/plain": [
       "dtype('int64')"
      ]
     },
     "execution_count": 20,
     "metadata": {},
     "output_type": "execute_result"
    }
   ],
   "source": [
    "df_house_new['Property_Area'].dtype"
   ]
  },
  {
   "cell_type": "markdown",
   "id": "5d20b503",
   "metadata": {
    "papermill": {
     "duration": 0.02309,
     "end_time": "2024-03-12T19:08:35.359018",
     "exception": false,
     "start_time": "2024-03-12T19:08:35.335928",
     "status": "completed"
    },
    "tags": []
   },
   "source": [
    "# Scaling"
   ]
  },
  {
   "cell_type": "code",
   "execution_count": 21,
   "id": "3d2837dd",
   "metadata": {
    "execution": {
     "iopub.execute_input": "2024-03-12T19:08:35.407547Z",
     "iopub.status.busy": "2024-03-12T19:08:35.407073Z",
     "iopub.status.idle": "2024-03-12T19:08:35.665109Z",
     "shell.execute_reply": "2024-03-12T19:08:35.663738Z"
    },
    "papermill": {
     "duration": 0.286952,
     "end_time": "2024-03-12T19:08:35.669355",
     "exception": false,
     "start_time": "2024-03-12T19:08:35.382403",
     "status": "completed"
    },
    "tags": []
   },
   "outputs": [],
   "source": [
    "from sklearn.preprocessing import MinMaxScaler\n",
    "\n",
    "# Assuming df is your DataFrame containing all features\n",
    "\n",
    "# Initialize MinMaxScaler\n",
    "scaler = MinMaxScaler()\n",
    "\n",
    "# Fit and transform the entire dataset\n",
    "scaled_data = scaler.fit_transform(df_house_new)\n",
    "\n",
    "# Convert the scaled data back to a DataFrame (optional)\n",
    "df_house_scaled = pd.DataFrame(scaled_data, columns=df_house_new.columns)"
   ]
  },
  {
   "cell_type": "code",
   "execution_count": 22,
   "id": "6f5f87ca",
   "metadata": {
    "execution": {
     "iopub.execute_input": "2024-03-12T19:08:35.718065Z",
     "iopub.status.busy": "2024-03-12T19:08:35.717565Z",
     "iopub.status.idle": "2024-03-12T19:08:35.733657Z",
     "shell.execute_reply": "2024-03-12T19:08:35.732290Z"
    },
    "papermill": {
     "duration": 0.044132,
     "end_time": "2024-03-12T19:08:35.736905",
     "exception": false,
     "start_time": "2024-03-12T19:08:35.692773",
     "status": "completed"
    },
    "tags": []
   },
   "outputs": [
    {
     "name": "stdout",
     "output_type": "stream",
     "text": [
      "   Property_Type  Property_Area  Number_of_Windows  Number_of_Doors  \\\n",
      "0            0.0       0.000215           0.266667              0.0   \n",
      "1            0.0       0.022636           0.133333              0.2   \n",
      "2            0.0       0.022779           0.266667              0.2   \n",
      "3            0.0       0.028608           0.200000              0.2   \n",
      "4            0.2       0.076455           0.933333              1.0   \n",
      "\n",
      "   Furnishing  Frequency_of_Powercuts  Water_Supply  Traffic_Density_Score  \\\n",
      "0         0.0                0.000000          0.25               0.594349   \n",
      "1         0.5                0.333333          0.50               0.440969   \n",
      "2         1.0                0.000000          0.25               0.751766   \n",
      "3         0.5                0.666667          0.25               0.621594   \n",
      "4         1.0                0.000000          0.75               0.550959   \n",
      "\n",
      "   Crime_Rate  Dust_and_Noise  Air_Quality_Index  Neighborhood_Review  \\\n",
      "0    0.000000             0.5           0.086207             0.760504   \n",
      "1    0.333333             0.5           0.091954             0.695378   \n",
      "2    0.000000             0.5           0.115900             0.750000   \n",
      "3    0.666667             0.5           0.095785             0.231092   \n",
      "4    0.333333             0.5           0.111111             0.951681   \n",
      "\n",
      "   Habitability_score  NOT MENTIONED   No  Yes  \n",
      "0            0.697800            0.0  1.0  0.0  \n",
      "1            0.689387            0.0  1.0  0.0  \n",
      "2            0.691437            0.0  1.0  0.0  \n",
      "3            0.260785            0.0  0.0  1.0  \n",
      "4            0.932053            0.0  1.0  0.0  \n"
     ]
    }
   ],
   "source": [
    "print(df_house_scaled.head())"
   ]
  },
  {
   "cell_type": "markdown",
   "id": "3e38ad09",
   "metadata": {
    "papermill": {
     "duration": 0.023426,
     "end_time": "2024-03-12T19:08:35.783232",
     "exception": false,
     "start_time": "2024-03-12T19:08:35.759806",
     "status": "completed"
    },
    "tags": []
   },
   "source": [
    "# Regression "
   ]
  },
  {
   "cell_type": "code",
   "execution_count": 23,
   "id": "4fa4beb6",
   "metadata": {
    "execution": {
     "iopub.execute_input": "2024-03-12T19:08:35.834178Z",
     "iopub.status.busy": "2024-03-12T19:08:35.833702Z",
     "iopub.status.idle": "2024-03-12T19:08:35.847501Z",
     "shell.execute_reply": "2024-03-12T19:08:35.846498Z"
    },
    "papermill": {
     "duration": 0.043237,
     "end_time": "2024-03-12T19:08:35.850337",
     "exception": false,
     "start_time": "2024-03-12T19:08:35.807100",
     "status": "completed"
    },
    "tags": []
   },
   "outputs": [
    {
     "name": "stdout",
     "output_type": "stream",
     "text": [
      "Id                        0\n",
      "Property_Type             0\n",
      "Property_Area             0\n",
      "Number_of_Windows         0\n",
      "Number_of_Doors           0\n",
      "Furnishing                0\n",
      "Frequency_of_Powercuts    0\n",
      "Water_Supply              0\n",
      "Traffic_Density_Score     0\n",
      "Crime_Rate                0\n",
      "Dust_and_Noise            0\n",
      "Air_Quality_Index         0\n",
      "Neighborhood_Review       0\n",
      "Habitability_score        0\n",
      "NOT MENTIONED             0\n",
      "No                        0\n",
      "Yes                       0\n",
      "dtype: int64\n"
     ]
    }
   ],
   "source": [
    "df_house_scaled.head(20)\n",
    "print(df_house.isnull().sum())\n",
    "#All the nan values have been replaced by median and mode\n"
   ]
  },
  {
   "cell_type": "code",
   "execution_count": 24,
   "id": "c5326c3c",
   "metadata": {
    "execution": {
     "iopub.execute_input": "2024-03-12T19:08:35.899746Z",
     "iopub.status.busy": "2024-03-12T19:08:35.898780Z",
     "iopub.status.idle": "2024-03-12T19:08:36.038525Z",
     "shell.execute_reply": "2024-03-12T19:08:36.037085Z"
    },
    "papermill": {
     "duration": 0.168059,
     "end_time": "2024-03-12T19:08:36.041589",
     "exception": false,
     "start_time": "2024-03-12T19:08:35.873530",
     "status": "completed"
    },
    "tags": []
   },
   "outputs": [],
   "source": [
    "from sklearn.model_selection import train_test_split\n",
    "\n",
    "\n",
    "X_train = df_house_scaled.drop('Habitability_score', axis=1)  # Exclude the target column\n",
    "\n",
    "# Select the target variable for y_train\n",
    "y_train = df_house_scaled['Habitability_score']  # Select only the target column\n",
    "\n",
    "# Split the original training data into a new training set and a validation set\n",
    "X_train_new, X_val, y_train_new, y_val = train_test_split(X_train, y_train, test_size=0.2, random_state=42)\n",
    "\n",
    " "
   ]
  },
  {
   "cell_type": "code",
   "execution_count": 25,
   "id": "22f862d3",
   "metadata": {
    "execution": {
     "iopub.execute_input": "2024-03-12T19:08:36.089377Z",
     "iopub.status.busy": "2024-03-12T19:08:36.088889Z",
     "iopub.status.idle": "2024-03-12T19:08:36.265141Z",
     "shell.execute_reply": "2024-03-12T19:08:36.263908Z"
    },
    "papermill": {
     "duration": 0.204883,
     "end_time": "2024-03-12T19:08:36.269520",
     "exception": false,
     "start_time": "2024-03-12T19:08:36.064637",
     "status": "completed"
    },
    "tags": []
   },
   "outputs": [
    {
     "data": {
      "text/html": [
       "<style>#sk-container-id-1 {color: black;background-color: white;}#sk-container-id-1 pre{padding: 0;}#sk-container-id-1 div.sk-toggleable {background-color: white;}#sk-container-id-1 label.sk-toggleable__label {cursor: pointer;display: block;width: 100%;margin-bottom: 0;padding: 0.3em;box-sizing: border-box;text-align: center;}#sk-container-id-1 label.sk-toggleable__label-arrow:before {content: \"▸\";float: left;margin-right: 0.25em;color: #696969;}#sk-container-id-1 label.sk-toggleable__label-arrow:hover:before {color: black;}#sk-container-id-1 div.sk-estimator:hover label.sk-toggleable__label-arrow:before {color: black;}#sk-container-id-1 div.sk-toggleable__content {max-height: 0;max-width: 0;overflow: hidden;text-align: left;background-color: #f0f8ff;}#sk-container-id-1 div.sk-toggleable__content pre {margin: 0.2em;color: black;border-radius: 0.25em;background-color: #f0f8ff;}#sk-container-id-1 input.sk-toggleable__control:checked~div.sk-toggleable__content {max-height: 200px;max-width: 100%;overflow: auto;}#sk-container-id-1 input.sk-toggleable__control:checked~label.sk-toggleable__label-arrow:before {content: \"▾\";}#sk-container-id-1 div.sk-estimator input.sk-toggleable__control:checked~label.sk-toggleable__label {background-color: #d4ebff;}#sk-container-id-1 div.sk-label input.sk-toggleable__control:checked~label.sk-toggleable__label {background-color: #d4ebff;}#sk-container-id-1 input.sk-hidden--visually {border: 0;clip: rect(1px 1px 1px 1px);clip: rect(1px, 1px, 1px, 1px);height: 1px;margin: -1px;overflow: hidden;padding: 0;position: absolute;width: 1px;}#sk-container-id-1 div.sk-estimator {font-family: monospace;background-color: #f0f8ff;border: 1px dotted black;border-radius: 0.25em;box-sizing: border-box;margin-bottom: 0.5em;}#sk-container-id-1 div.sk-estimator:hover {background-color: #d4ebff;}#sk-container-id-1 div.sk-parallel-item::after {content: \"\";width: 100%;border-bottom: 1px solid gray;flex-grow: 1;}#sk-container-id-1 div.sk-label:hover label.sk-toggleable__label {background-color: #d4ebff;}#sk-container-id-1 div.sk-serial::before {content: \"\";position: absolute;border-left: 1px solid gray;box-sizing: border-box;top: 0;bottom: 0;left: 50%;z-index: 0;}#sk-container-id-1 div.sk-serial {display: flex;flex-direction: column;align-items: center;background-color: white;padding-right: 0.2em;padding-left: 0.2em;position: relative;}#sk-container-id-1 div.sk-item {position: relative;z-index: 1;}#sk-container-id-1 div.sk-parallel {display: flex;align-items: stretch;justify-content: center;background-color: white;position: relative;}#sk-container-id-1 div.sk-item::before, #sk-container-id-1 div.sk-parallel-item::before {content: \"\";position: absolute;border-left: 1px solid gray;box-sizing: border-box;top: 0;bottom: 0;left: 50%;z-index: -1;}#sk-container-id-1 div.sk-parallel-item {display: flex;flex-direction: column;z-index: 1;position: relative;background-color: white;}#sk-container-id-1 div.sk-parallel-item:first-child::after {align-self: flex-end;width: 50%;}#sk-container-id-1 div.sk-parallel-item:last-child::after {align-self: flex-start;width: 50%;}#sk-container-id-1 div.sk-parallel-item:only-child::after {width: 0;}#sk-container-id-1 div.sk-dashed-wrapped {border: 1px dashed gray;margin: 0 0.4em 0.5em 0.4em;box-sizing: border-box;padding-bottom: 0.4em;background-color: white;}#sk-container-id-1 div.sk-label label {font-family: monospace;font-weight: bold;display: inline-block;line-height: 1.2em;}#sk-container-id-1 div.sk-label-container {text-align: center;}#sk-container-id-1 div.sk-container {/* jupyter's `normalize.less` sets `[hidden] { display: none; }` but bootstrap.min.css set `[hidden] { display: none !important; }` so we also need the `!important` here to be able to override the default hidden behavior on the sphinx rendered scikit-learn.org. See: https://github.com/scikit-learn/scikit-learn/issues/21755 */display: inline-block !important;position: relative;}#sk-container-id-1 div.sk-text-repr-fallback {display: none;}</style><div id=\"sk-container-id-1\" class=\"sk-top-container\"><div class=\"sk-text-repr-fallback\"><pre>LinearRegression()</pre><b>In a Jupyter environment, please rerun this cell to show the HTML representation or trust the notebook. <br />On GitHub, the HTML representation is unable to render, please try loading this page with nbviewer.org.</b></div><div class=\"sk-container\" hidden><div class=\"sk-item\"><div class=\"sk-estimator sk-toggleable\"><input class=\"sk-toggleable__control sk-hidden--visually\" id=\"sk-estimator-id-1\" type=\"checkbox\" checked><label for=\"sk-estimator-id-1\" class=\"sk-toggleable__label sk-toggleable__label-arrow\">LinearRegression</label><div class=\"sk-toggleable__content\"><pre>LinearRegression()</pre></div></div></div></div></div>"
      ],
      "text/plain": [
       "LinearRegression()"
      ]
     },
     "execution_count": 25,
     "metadata": {},
     "output_type": "execute_result"
    }
   ],
   "source": [
    "\n",
    "from sklearn.linear_model import LinearRegression\n",
    "model = LinearRegression()\n",
    "\n",
    "# Fit the model to the training data\n",
    "model.fit(X_train_new, y_train_new)"
   ]
  },
  {
   "cell_type": "markdown",
   "id": "9fe2a63b",
   "metadata": {
    "papermill": {
     "duration": 0.046504,
     "end_time": "2024-03-12T19:08:36.371400",
     "exception": false,
     "start_time": "2024-03-12T19:08:36.324896",
     "status": "completed"
    },
    "tags": []
   },
   "source": []
  },
  {
   "cell_type": "code",
   "execution_count": 26,
   "id": "83aabc11",
   "metadata": {
    "execution": {
     "iopub.execute_input": "2024-03-12T19:08:36.420669Z",
     "iopub.status.busy": "2024-03-12T19:08:36.420224Z",
     "iopub.status.idle": "2024-03-12T19:08:36.436203Z",
     "shell.execute_reply": "2024-03-12T19:08:36.434154Z"
    },
    "papermill": {
     "duration": 0.046545,
     "end_time": "2024-03-12T19:08:36.441604",
     "exception": false,
     "start_time": "2024-03-12T19:08:36.395059",
     "status": "completed"
    },
    "tags": []
   },
   "outputs": [
    {
     "name": "stdout",
     "output_type": "stream",
     "text": [
      "Mean Squared Error: 0.013680297709642287\n",
      "R-squared: 0.38149865994090304\n"
     ]
    }
   ],
   "source": [
    "#X_test =test_data.drop('Habitability_score', axis=1)  # Exclude the target column\n",
    "\n",
    "# Select the target variable for y_train\n",
    "#y_test =test_data['Habitability_score']  # Select only the target column\n",
    "\n",
    "from sklearn.metrics import mean_squared_error, r2_score\n",
    "# Model Evaluation\n",
    "y_pred = model.predict(X_val)\n",
    "\n",
    "# Mean Squared Error and R-squared for model evaluation\n",
    "mse = mean_squared_error(y_val, y_pred)\n",
    "r2 = r2_score(y_val, y_pred)\n",
    "\n",
    "print(\"Mean Squared Error:\", mse)\n",
    "print(\"R-squared:\", r2)"
   ]
  },
  {
   "cell_type": "markdown",
   "id": "454a9db2",
   "metadata": {
    "papermill": {
     "duration": 0.049778,
     "end_time": "2024-03-12T19:08:36.540634",
     "exception": false,
     "start_time": "2024-03-12T19:08:36.490856",
     "status": "completed"
    },
    "tags": []
   },
   "source": [
    "# ****TESTING"
   ]
  },
  {
   "cell_type": "code",
   "execution_count": 27,
   "id": "8d2c4965",
   "metadata": {
    "execution": {
     "iopub.execute_input": "2024-03-12T19:08:36.594246Z",
     "iopub.status.busy": "2024-03-12T19:08:36.593767Z",
     "iopub.status.idle": "2024-03-12T19:08:36.639734Z",
     "shell.execute_reply": "2024-03-12T19:08:36.638175Z"
    },
    "papermill": {
     "duration": 0.074231,
     "end_time": "2024-03-12T19:08:36.643116",
     "exception": false,
     "start_time": "2024-03-12T19:08:36.568885",
     "status": "completed"
    },
    "tags": []
   },
   "outputs": [],
   "source": [
    "test_dataframe = pd.read_csv(\"/kaggle/input/ml-olympiad-sustainable-urban-living/test.csv\")"
   ]
  },
  {
   "cell_type": "code",
   "execution_count": 28,
   "id": "f3edf35d",
   "metadata": {
    "execution": {
     "iopub.execute_input": "2024-03-12T19:08:36.692134Z",
     "iopub.status.busy": "2024-03-12T19:08:36.691526Z",
     "iopub.status.idle": "2024-03-12T19:08:36.701710Z",
     "shell.execute_reply": "2024-03-12T19:08:36.700331Z"
    },
    "papermill": {
     "duration": 0.037511,
     "end_time": "2024-03-12T19:08:36.704013",
     "exception": false,
     "start_time": "2024-03-12T19:08:36.666502",
     "status": "completed"
    },
    "tags": []
   },
   "outputs": [
    {
     "name": "stdout",
     "output_type": "stream",
     "text": [
      "7\n",
      "7\n"
     ]
    }
   ],
   "source": [
    "# Identify numeric and categorical columns\n",
    "numeric_columns = test_dataframe.select_dtypes(include=['number']).columns.tolist()\n",
    "categorical_columns = test_dataframe.select_dtypes(include=['object', 'category']).columns.tolist()\n",
    "\n",
    "print(len(numeric_columns))\n",
    "print(len(categorical_columns))"
   ]
  },
  {
   "cell_type": "code",
   "execution_count": 29,
   "id": "226a3dab",
   "metadata": {
    "execution": {
     "iopub.execute_input": "2024-03-12T19:08:36.753375Z",
     "iopub.status.busy": "2024-03-12T19:08:36.752328Z",
     "iopub.status.idle": "2024-03-12T19:08:36.771060Z",
     "shell.execute_reply": "2024-03-12T19:08:36.769843Z"
    },
    "papermill": {
     "duration": 0.046202,
     "end_time": "2024-03-12T19:08:36.773566",
     "exception": false,
     "start_time": "2024-03-12T19:08:36.727364",
     "status": "completed"
    },
    "tags": []
   },
   "outputs": [
    {
     "data": {
      "text/plain": [
       "<bound method NDFrame.head of           Id       Property_Type  Property_Area  Number_of_Windows  \\\n",
       "0     0x6808  Single-family home           1521                5.0   \n",
       "1     0x6a98  Single-family home           2233                2.0   \n",
       "2     0xacc0           Apartment            986                1.0   \n",
       "3     0x8225  Single-family home           1625                2.0   \n",
       "4     0xaee8  Single-family home           1166                2.0   \n",
       "...      ...                 ...            ...                ...   \n",
       "7895  0x6e26  Single-family home           1120                3.0   \n",
       "7896  0xa013           Apartment            445                1.0   \n",
       "7897  0x9721            Bungalow           3780                6.0   \n",
       "7898  0x7e25  Single-family home           1266                3.0   \n",
       "7899  0x8cb4  Single-family home           1229                2.0   \n",
       "\n",
       "      Number_of_Doors       Furnishing  Frequency_of_Powercuts Power_Backup  \\\n",
       "0                   1      Unfurnished                     0.0           No   \n",
       "1                   1   Semi_Furnished                     0.0           No   \n",
       "2                   1      Unfurnished                     0.0           No   \n",
       "3                   1   Semi_Furnished                     0.0           No   \n",
       "4                   2  Fully Furnished                     0.0           No   \n",
       "...               ...              ...                     ...          ...   \n",
       "7895                2              NaN                     0.0           No   \n",
       "7896                3  Fully Furnished                     1.0           No   \n",
       "7897                6      Unfurnished                     0.0          Yes   \n",
       "7898                1   Semi_Furnished                     0.0           No   \n",
       "7899                4  Fully Furnished                     0.0           No   \n",
       "\n",
       "                 Water_Supply  Traffic_Density_Score              Crime_Rate  \\\n",
       "0                    All time                   7.61      Well below average   \n",
       "1     Once in a day - Morning                   5.28      Well below average   \n",
       "2                    All time                   7.72      Well below average   \n",
       "3     Once in a day - Evening                   6.19      Well below average   \n",
       "4     Once in a day - Evening                   5.84  Slightly below average   \n",
       "...                       ...                    ...                     ...   \n",
       "7895                 All time                   5.55  Slightly above average   \n",
       "7896                 All time                   5.70  Slightly above average   \n",
       "7897         Once in two days                   6.84      Well below average   \n",
       "7898  Once in a day - Morning                   4.60  Slightly above average   \n",
       "7899                 All time                   8.29      Well below average   \n",
       "\n",
       "     Dust_and_Noise  Air_Quality_Index  Neighborhood_Review  \n",
       "0            Medium              156.0                 4.71  \n",
       "1            Medium               82.0                 4.50  \n",
       "2            Medium               91.0                 4.79  \n",
       "3            Medium              159.0                 4.09  \n",
       "4            Medium               82.0                 3.56  \n",
       "...             ...                ...                  ...  \n",
       "7895         Medium               80.0                 3.56  \n",
       "7896         Medium               86.0                 2.93  \n",
       "7897         Medium              137.0                 3.80  \n",
       "7898            NaN               88.0                 3.25  \n",
       "7899           High              132.0                 4.67  \n",
       "\n",
       "[7900 rows x 14 columns]>"
      ]
     },
     "execution_count": 29,
     "metadata": {},
     "output_type": "execute_result"
    }
   ],
   "source": [
    "test_dataframe.head"
   ]
  },
  {
   "cell_type": "code",
   "execution_count": 30,
   "id": "0783da82",
   "metadata": {
    "execution": {
     "iopub.execute_input": "2024-03-12T19:08:36.824159Z",
     "iopub.status.busy": "2024-03-12T19:08:36.823645Z",
     "iopub.status.idle": "2024-03-12T19:08:36.870588Z",
     "shell.execute_reply": "2024-03-12T19:08:36.869221Z"
    },
    "papermill": {
     "duration": 0.0766,
     "end_time": "2024-03-12T19:08:36.874050",
     "exception": false,
     "start_time": "2024-03-12T19:08:36.797450",
     "status": "completed"
    },
    "tags": []
   },
   "outputs": [],
   "source": [
    "for col in numeric_columns:\n",
    "    test_dataframe.fillna({col:test_dataframe[col].median()}, inplace=True)\n",
    "\n",
    "# Fill missing values for categorical columns with mode\n",
    "for col in categorical_columns:\n",
    "    test_dataframe.fillna({col:test_dataframe[col].mode()[0]}, inplace=True)"
   ]
  },
  {
   "cell_type": "code",
   "execution_count": 31,
   "id": "900acf9a",
   "metadata": {
    "execution": {
     "iopub.execute_input": "2024-03-12T19:08:36.924878Z",
     "iopub.status.busy": "2024-03-12T19:08:36.924412Z",
     "iopub.status.idle": "2024-03-12T19:08:36.938721Z",
     "shell.execute_reply": "2024-03-12T19:08:36.937378Z"
    },
    "papermill": {
     "duration": 0.043302,
     "end_time": "2024-03-12T19:08:36.941556",
     "exception": false,
     "start_time": "2024-03-12T19:08:36.898254",
     "status": "completed"
    },
    "tags": []
   },
   "outputs": [
    {
     "name": "stdout",
     "output_type": "stream",
     "text": [
      "['Single-family home' 'Apartment' 'Bungalow' 'Container Home' 'Duplex'\n",
      " '#R%$G&867']\n",
      "0       3\n",
      "1       3\n",
      "2       1\n",
      "3       3\n",
      "4       3\n",
      "       ..\n",
      "7895    3\n",
      "7896    1\n",
      "7897    2\n",
      "7898    3\n",
      "7899    3\n",
      "Name: Property_Type, Length: 7900, dtype: int64\n"
     ]
    }
   ],
   "source": [
    "#Property_Type- Lable encoding  1,2,3,4,5,6\n",
    "unique_values_1 = test_dataframe['Property_Type'].unique()\n",
    "print(unique_values_1)\n",
    "\n",
    "# Mapping dictionary\n",
    "mapping = {\"Apartment\": 1, \"Bungalow\": 2,\"Single-family home\": 3, \"Duplex\": 4, \"#R%$G&867\":5, \"Container Home\": 6}\n",
    "\n",
    "test_dataframe[\"Property_Type\"] = test_dataframe[\"Property_Type\"].map(mapping)\n",
    "\n",
    "\n",
    "test_dataframe.rename(columns={\"Property_Type\": \"Property_Type\"}, inplace=True)\n",
    "\n",
    "print(test_dataframe[\"Property_Type\"])\n",
    "\n"
   ]
  },
  {
   "cell_type": "code",
   "execution_count": 32,
   "id": "e456b3cd",
   "metadata": {
    "execution": {
     "iopub.execute_input": "2024-03-12T19:08:36.992193Z",
     "iopub.status.busy": "2024-03-12T19:08:36.991673Z",
     "iopub.status.idle": "2024-03-12T19:08:37.005903Z",
     "shell.execute_reply": "2024-03-12T19:08:37.004464Z"
    },
    "papermill": {
     "duration": 0.043283,
     "end_time": "2024-03-12T19:08:37.009029",
     "exception": false,
     "start_time": "2024-03-12T19:08:36.965746",
     "status": "completed"
    },
    "tags": []
   },
   "outputs": [
    {
     "name": "stdout",
     "output_type": "stream",
     "text": [
      "['Unfurnished' 'Semi_Furnished' 'Fully Furnished']\n",
      "0       2\n",
      "1       1\n",
      "2       2\n",
      "3       1\n",
      "4       3\n",
      "       ..\n",
      "7895    1\n",
      "7896    3\n",
      "7897    2\n",
      "7898    1\n",
      "7899    3\n",
      "Name: Furnishing, Length: 7900, dtype: int64\n"
     ]
    }
   ],
   "source": [
    "# Furnishing- ordinal encoding \n",
    "#Semi_Furnished -1\n",
    "#Unfurnished-2\n",
    "#Fully Furnished-3\n",
    "unique_values_2=test_dataframe['Furnishing'].unique()\n",
    "print(unique_values_2)\n",
    "\n",
    "# Mapping dictionary\n",
    "mapping = {\"Semi_Furnished\": 1, \"Unfurnished\": 2,\"Fully Furnished\": 3 }\n",
    "\n",
    "test_dataframe[\"Furnishing\"] = test_dataframe[\"Furnishing\"].map(mapping)\n",
    "\n",
    "\n",
    "test_dataframe.rename(columns={\"Furnishing\": \"Furnishing\"}, inplace=True)\n",
    "\n",
    "print(test_dataframe[\"Furnishing\"])"
   ]
  },
  {
   "cell_type": "code",
   "execution_count": 33,
   "id": "c5ed0dec",
   "metadata": {
    "execution": {
     "iopub.execute_input": "2024-03-12T19:08:37.059841Z",
     "iopub.status.busy": "2024-03-12T19:08:37.059326Z",
     "iopub.status.idle": "2024-03-12T19:08:37.067826Z",
     "shell.execute_reply": "2024-03-12T19:08:37.066346Z"
    },
    "papermill": {
     "duration": 0.037716,
     "end_time": "2024-03-12T19:08:37.071011",
     "exception": false,
     "start_time": "2024-03-12T19:08:37.033295",
     "status": "completed"
    },
    "tags": []
   },
   "outputs": [
    {
     "name": "stdout",
     "output_type": "stream",
     "text": [
      "['No' 'Yes' 'NOT MENTIONED']\n"
     ]
    }
   ],
   "source": [
    "# Power_Backup-One hot encoder\n",
    "unique_values_3=test_dataframe['Power_Backup'].unique()\n",
    "print(unique_values_3)\n"
   ]
  },
  {
   "cell_type": "code",
   "execution_count": 34,
   "id": "e972f467",
   "metadata": {
    "execution": {
     "iopub.execute_input": "2024-03-12T19:08:37.122414Z",
     "iopub.status.busy": "2024-03-12T19:08:37.121872Z",
     "iopub.status.idle": "2024-03-12T19:08:37.144423Z",
     "shell.execute_reply": "2024-03-12T19:08:37.142902Z"
    },
    "papermill": {
     "duration": 0.051592,
     "end_time": "2024-03-12T19:08:37.147458",
     "exception": false,
     "start_time": "2024-03-12T19:08:37.095866",
     "status": "completed"
    },
    "tags": []
   },
   "outputs": [
    {
     "name": "stdout",
     "output_type": "stream",
     "text": [
      "       Id  Property_Type  Property_Area  Number_of_Windows  Number_of_Doors  \\\n",
      "0  0x6808              3           1521                5.0                1   \n",
      "1  0x6a98              3           2233                2.0                1   \n",
      "2  0xacc0              1            986                1.0                1   \n",
      "3  0x8225              3           1625                2.0                1   \n",
      "4  0xaee8              3           1166                2.0                2   \n",
      "\n",
      "   Furnishing  Frequency_of_Powercuts             Water_Supply  \\\n",
      "0           2                     0.0                 All time   \n",
      "1           1                     0.0  Once in a day - Morning   \n",
      "2           2                     0.0                 All time   \n",
      "3           1                     0.0  Once in a day - Evening   \n",
      "4           3                     0.0  Once in a day - Evening   \n",
      "\n",
      "   Traffic_Density_Score              Crime_Rate Dust_and_Noise  \\\n",
      "0                   7.61      Well below average         Medium   \n",
      "1                   5.28      Well below average         Medium   \n",
      "2                   7.72      Well below average         Medium   \n",
      "3                   6.19      Well below average         Medium   \n",
      "4                   5.84  Slightly below average         Medium   \n",
      "\n",
      "   Air_Quality_Index  Neighborhood_Review  NOT MENTIONED    No    Yes  \n",
      "0              156.0                 4.71          False  True  False  \n",
      "1               82.0                 4.50          False  True  False  \n",
      "2               91.0                 4.79          False  True  False  \n",
      "3              159.0                 4.09          False  True  False  \n",
      "4               82.0                 3.56          False  True  False  \n"
     ]
    }
   ],
   "source": [
    "one_hot_encoded = pd.get_dummies(test_dataframe['Power_Backup'])\n",
    "\n",
    " #Concatenate the one-hot encoded columns with the original DataFrame\n",
    "test_dataframe = pd.concat([test_dataframe.drop('Power_Backup', axis=1), one_hot_encoded], axis=1)\n",
    "\n",
    "print(test_dataframe.head())"
   ]
  },
  {
   "cell_type": "code",
   "execution_count": 35,
   "id": "79ec8443",
   "metadata": {
    "execution": {
     "iopub.execute_input": "2024-03-12T19:08:37.199879Z",
     "iopub.status.busy": "2024-03-12T19:08:37.199403Z",
     "iopub.status.idle": "2024-03-12T19:08:37.213183Z",
     "shell.execute_reply": "2024-03-12T19:08:37.212002Z"
    },
    "papermill": {
     "duration": 0.043391,
     "end_time": "2024-03-12T19:08:37.215899",
     "exception": false,
     "start_time": "2024-03-12T19:08:37.172508",
     "status": "completed"
    },
    "tags": []
   },
   "outputs": [
    {
     "name": "stdout",
     "output_type": "stream",
     "text": [
      "['All time' 'Once in a day - Morning' 'Once in a day - Evening'\n",
      " 'Once in two days' 'NOT MENTIONED']\n",
      "0       3\n",
      "1       1\n",
      "2       3\n",
      "3       2\n",
      "4       2\n",
      "       ..\n",
      "7895    3\n",
      "7896    3\n",
      "7897    4\n",
      "7898    1\n",
      "7899    3\n",
      "Name: Water_Supply, Length: 7900, dtype: int64\n"
     ]
    }
   ],
   "source": [
    "# Water_Supply- lable encoding\n",
    "#Once in a day - Morning  -1\n",
    "#Once in a day - Evening  -2\n",
    "#All time- 3\n",
    "#NOT MENTIONED -0\n",
    "#Once in two days -4\n",
    "unique_values_4=test_dataframe['Water_Supply'].unique()\n",
    "print(unique_values_4)\n",
    "\n",
    "# Mapping dictionary\n",
    "mapping = {\"Once in a day - Morning\": 1, \"Once in a day - Evening\": 2,\"All time\": 3, \"Once in two days\": 4, \"NOT MENTIONED\":0 }\n",
    "\n",
    "test_dataframe[\"Water_Supply\"] = test_dataframe[\"Water_Supply\"].map(mapping)\n",
    "\n",
    "\n",
    "test_dataframe.rename(columns={\"Water_Supply\": \"Water_Supply\"}, inplace=True)\n",
    "\n",
    "print(test_dataframe[\"Water_Supply\"])"
   ]
  },
  {
   "cell_type": "code",
   "execution_count": 36,
   "id": "e2ee857e",
   "metadata": {
    "execution": {
     "iopub.execute_input": "2024-03-12T19:08:37.266202Z",
     "iopub.status.busy": "2024-03-12T19:08:37.265748Z",
     "iopub.status.idle": "2024-03-12T19:08:37.279789Z",
     "shell.execute_reply": "2024-03-12T19:08:37.278319Z"
    },
    "papermill": {
     "duration": 0.042305,
     "end_time": "2024-03-12T19:08:37.282368",
     "exception": false,
     "start_time": "2024-03-12T19:08:37.240063",
     "status": "completed"
    },
    "tags": []
   },
   "outputs": [
    {
     "name": "stdout",
     "output_type": "stream",
     "text": [
      "['Well below average' 'Slightly below average' 'Slightly above average'\n",
      " 'Well above average']\n",
      "0       2\n",
      "1       2\n",
      "2       2\n",
      "3       2\n",
      "4       1\n",
      "       ..\n",
      "7895    4\n",
      "7896    4\n",
      "7897    2\n",
      "7898    4\n",
      "7899    2\n",
      "Name: Crime_Rate, Length: 7900, dtype: int64\n"
     ]
    }
   ],
   "source": [
    "# Crime_Rate- Ordinal encoding \n",
    "#Slightly below average-1\n",
    "#Well below average-2\n",
    "#Well above average-3\n",
    "#Slightly above average-4\n",
    "unique_values_6=test_dataframe['Crime_Rate'].unique()\n",
    "print(unique_values_6)\n",
    "\n",
    "# Mapping dictionary\n",
    "mapping = {\"Slightly below average\": 1, \"Well below average\": 2,\"Well above average\": 3, \"Slightly above average\": 4 }\n",
    "\n",
    "test_dataframe[\"Crime_Rate\"] = test_dataframe[\"Crime_Rate\"].map(mapping)\n",
    "\n",
    "\n",
    "test_dataframe.rename(columns={\"Crime_Rate\": \"Crime_Rate\"}, inplace=True)\n",
    "\n",
    "print(test_dataframe[\"Crime_Rate\"])"
   ]
  },
  {
   "cell_type": "code",
   "execution_count": 37,
   "id": "91375e60",
   "metadata": {
    "execution": {
     "iopub.execute_input": "2024-03-12T19:08:37.339417Z",
     "iopub.status.busy": "2024-03-12T19:08:37.338758Z",
     "iopub.status.idle": "2024-03-12T19:08:37.354168Z",
     "shell.execute_reply": "2024-03-12T19:08:37.352464Z"
    },
    "papermill": {
     "duration": 0.048365,
     "end_time": "2024-03-12T19:08:37.357054",
     "exception": false,
     "start_time": "2024-03-12T19:08:37.308689",
     "status": "completed"
    },
    "tags": []
   },
   "outputs": [
    {
     "name": "stdout",
     "output_type": "stream",
     "text": [
      "['Medium' 'Low' 'High']\n",
      "0       2\n",
      "1       2\n",
      "2       2\n",
      "3       2\n",
      "4       2\n",
      "       ..\n",
      "7895    2\n",
      "7896    2\n",
      "7897    2\n",
      "7898    2\n",
      "7899    3\n",
      "Name: Dust_and_Noise, Length: 7900, dtype: int64\n"
     ]
    }
   ],
   "source": [
    "# Dust_and_Noise- Ordinal encoding\n",
    "#  'Low''Medium' 'High' = 1,2,3\n",
    "unique_values_7=test_dataframe['Dust_and_Noise'].unique()\n",
    "print(unique_values_7)\n",
    "\n",
    "# Mapping dictionary\n",
    "mapping = {\"Low\": 1, \"Medium\": 2,\"High\": 3 }\n",
    "\n",
    "test_dataframe[\"Dust_and_Noise\"] = test_dataframe[\"Dust_and_Noise\"].map(mapping)\n",
    "\n",
    "\n",
    "test_dataframe.rename(columns={\"Dust_and_Noise\": \"Dust_and_Noise\"}, inplace=True)\n",
    "\n",
    "print(test_dataframe[\"Dust_and_Noise\"])"
   ]
  },
  {
   "cell_type": "code",
   "execution_count": 38,
   "id": "a0472d6e",
   "metadata": {
    "execution": {
     "iopub.execute_input": "2024-03-12T19:08:37.411019Z",
     "iopub.status.busy": "2024-03-12T19:08:37.409706Z",
     "iopub.status.idle": "2024-03-12T19:08:37.420921Z",
     "shell.execute_reply": "2024-03-12T19:08:37.419634Z"
    },
    "papermill": {
     "duration": 0.042243,
     "end_time": "2024-03-12T19:08:37.424055",
     "exception": false,
     "start_time": "2024-03-12T19:08:37.381812",
     "status": "completed"
    },
    "tags": []
   },
   "outputs": [
    {
     "name": "stdout",
     "output_type": "stream",
     "text": [
      "12\n",
      "1\n",
      "['Id']\n"
     ]
    }
   ],
   "source": [
    "# Identify numeric and categorical columns\n",
    "numeric_columns = test_dataframe.select_dtypes(include=['number']).columns.tolist()\n",
    "categorical_columns = test_dataframe.select_dtypes(include=['object', 'category']).columns.tolist()\n",
    "\n",
    "print(len(numeric_columns))\n",
    "print(len(categorical_columns))\n",
    "\n",
    "print(categorical_columns)"
   ]
  },
  {
   "cell_type": "code",
   "execution_count": 39,
   "id": "76af3af0",
   "metadata": {
    "execution": {
     "iopub.execute_input": "2024-03-12T19:08:37.479145Z",
     "iopub.status.busy": "2024-03-12T19:08:37.478286Z",
     "iopub.status.idle": "2024-03-12T19:08:37.500024Z",
     "shell.execute_reply": "2024-03-12T19:08:37.498693Z"
    },
    "papermill": {
     "duration": 0.052436,
     "end_time": "2024-03-12T19:08:37.503731",
     "exception": false,
     "start_time": "2024-03-12T19:08:37.451295",
     "status": "completed"
    },
    "tags": []
   },
   "outputs": [],
   "source": [
    "from sklearn.preprocessing import MinMaxScaler\n",
    "\n",
    "# Assuming df is your DataFrame containing all features\n",
    "\n",
    "test_dataframe_new = test_dataframe.drop('Id', axis=1)\n",
    "# Initialize MinMaxScaler\n",
    "scaler = MinMaxScaler()\n",
    "\n",
    "# Fit and transform the entire dataset\n",
    "scaled_data = scaler.fit_transform(test_dataframe_new)\n",
    "\n",
    "# Convert the scaled data back to a DataFrame (optional)\n",
    "test_scaled = pd.DataFrame(scaled_data, columns=test_dataframe_new.columns)"
   ]
  },
  {
   "cell_type": "code",
   "execution_count": 40,
   "id": "e5d9ec4d",
   "metadata": {
    "execution": {
     "iopub.execute_input": "2024-03-12T19:08:37.557754Z",
     "iopub.status.busy": "2024-03-12T19:08:37.557220Z",
     "iopub.status.idle": "2024-03-12T19:08:37.568023Z",
     "shell.execute_reply": "2024-03-12T19:08:37.566175Z"
    },
    "papermill": {
     "duration": 0.04035,
     "end_time": "2024-03-12T19:08:37.571022",
     "exception": false,
     "start_time": "2024-03-12T19:08:37.530672",
     "status": "completed"
    },
    "tags": []
   },
   "outputs": [
    {
     "name": "stdout",
     "output_type": "stream",
     "text": [
      "Property_Type             0\n",
      "Property_Area             0\n",
      "Number_of_Windows         0\n",
      "Number_of_Doors           0\n",
      "Furnishing                0\n",
      "Frequency_of_Powercuts    0\n",
      "Water_Supply              0\n",
      "Traffic_Density_Score     0\n",
      "Crime_Rate                0\n",
      "Dust_and_Noise            0\n",
      "Air_Quality_Index         0\n",
      "Neighborhood_Review       0\n",
      "NOT MENTIONED             0\n",
      "No                        0\n",
      "Yes                       0\n",
      "dtype: int64\n"
     ]
    }
   ],
   "source": [
    "test_scaled.head(20)\n",
    "print(test_scaled.isnull().sum())\n",
    "#All the nan values have been replaced by median and mode\n"
   ]
  },
  {
   "cell_type": "code",
   "execution_count": 41,
   "id": "b7846d98",
   "metadata": {
    "execution": {
     "iopub.execute_input": "2024-03-12T19:08:37.624900Z",
     "iopub.status.busy": "2024-03-12T19:08:37.623663Z",
     "iopub.status.idle": "2024-03-12T19:08:37.636193Z",
     "shell.execute_reply": "2024-03-12T19:08:37.634517Z"
    },
    "papermill": {
     "duration": 0.04639,
     "end_time": "2024-03-12T19:08:37.642405",
     "exception": false,
     "start_time": "2024-03-12T19:08:37.596015",
     "status": "completed"
    },
    "tags": []
   },
   "outputs": [],
   "source": [
    "X_test=test_scaled\n",
    "y_pred_new = model.predict(X_test)"
   ]
  },
  {
   "cell_type": "code",
   "execution_count": 42,
   "id": "5e2962f9",
   "metadata": {
    "execution": {
     "iopub.execute_input": "2024-03-12T19:08:37.751743Z",
     "iopub.status.busy": "2024-03-12T19:08:37.751280Z",
     "iopub.status.idle": "2024-03-12T19:08:37.777163Z",
     "shell.execute_reply": "2024-03-12T19:08:37.776189Z"
    },
    "papermill": {
     "duration": 0.083952,
     "end_time": "2024-03-12T19:08:37.779595",
     "exception": false,
     "start_time": "2024-03-12T19:08:37.695643",
     "status": "completed"
    },
    "tags": []
   },
   "outputs": [
    {
     "data": {
      "text/html": [
       "<div>\n",
       "<style scoped>\n",
       "    .dataframe tbody tr th:only-of-type {\n",
       "        vertical-align: middle;\n",
       "    }\n",
       "\n",
       "    .dataframe tbody tr th {\n",
       "        vertical-align: top;\n",
       "    }\n",
       "\n",
       "    .dataframe thead th {\n",
       "        text-align: right;\n",
       "    }\n",
       "</style>\n",
       "<table border=\"1\" class=\"dataframe\">\n",
       "  <thead>\n",
       "    <tr style=\"text-align: right;\">\n",
       "      <th></th>\n",
       "      <th>Id</th>\n",
       "      <th>Property_Type</th>\n",
       "      <th>Property_Area</th>\n",
       "      <th>Number_of_Windows</th>\n",
       "      <th>Number_of_Doors</th>\n",
       "      <th>Furnishing</th>\n",
       "      <th>Frequency_of_Powercuts</th>\n",
       "      <th>Water_Supply</th>\n",
       "      <th>Traffic_Density_Score</th>\n",
       "      <th>Crime_Rate</th>\n",
       "      <th>Dust_and_Noise</th>\n",
       "      <th>Air_Quality_Index</th>\n",
       "      <th>Neighborhood_Review</th>\n",
       "      <th>NOT MENTIONED</th>\n",
       "      <th>No</th>\n",
       "      <th>Yes</th>\n",
       "      <th>Habitability_score</th>\n",
       "    </tr>\n",
       "  </thead>\n",
       "  <tbody>\n",
       "    <tr>\n",
       "      <th>0</th>\n",
       "      <td>0x6808</td>\n",
       "      <td>3</td>\n",
       "      <td>1521</td>\n",
       "      <td>5.0</td>\n",
       "      <td>1</td>\n",
       "      <td>2</td>\n",
       "      <td>0.0</td>\n",
       "      <td>3</td>\n",
       "      <td>7.61</td>\n",
       "      <td>2</td>\n",
       "      <td>2</td>\n",
       "      <td>156.0</td>\n",
       "      <td>4.71</td>\n",
       "      <td>False</td>\n",
       "      <td>True</td>\n",
       "      <td>False</td>\n",
       "      <td>0.787674</td>\n",
       "    </tr>\n",
       "    <tr>\n",
       "      <th>1</th>\n",
       "      <td>0x6a98</td>\n",
       "      <td>3</td>\n",
       "      <td>2233</td>\n",
       "      <td>2.0</td>\n",
       "      <td>1</td>\n",
       "      <td>1</td>\n",
       "      <td>0.0</td>\n",
       "      <td>1</td>\n",
       "      <td>5.28</td>\n",
       "      <td>2</td>\n",
       "      <td>2</td>\n",
       "      <td>82.0</td>\n",
       "      <td>4.50</td>\n",
       "      <td>False</td>\n",
       "      <td>True</td>\n",
       "      <td>False</td>\n",
       "      <td>0.761416</td>\n",
       "    </tr>\n",
       "    <tr>\n",
       "      <th>2</th>\n",
       "      <td>0xacc0</td>\n",
       "      <td>1</td>\n",
       "      <td>986</td>\n",
       "      <td>1.0</td>\n",
       "      <td>1</td>\n",
       "      <td>2</td>\n",
       "      <td>0.0</td>\n",
       "      <td>3</td>\n",
       "      <td>7.72</td>\n",
       "      <td>2</td>\n",
       "      <td>2</td>\n",
       "      <td>91.0</td>\n",
       "      <td>4.79</td>\n",
       "      <td>False</td>\n",
       "      <td>True</td>\n",
       "      <td>False</td>\n",
       "      <td>0.777402</td>\n",
       "    </tr>\n",
       "    <tr>\n",
       "      <th>3</th>\n",
       "      <td>0x8225</td>\n",
       "      <td>3</td>\n",
       "      <td>1625</td>\n",
       "      <td>2.0</td>\n",
       "      <td>1</td>\n",
       "      <td>1</td>\n",
       "      <td>0.0</td>\n",
       "      <td>2</td>\n",
       "      <td>6.19</td>\n",
       "      <td>2</td>\n",
       "      <td>2</td>\n",
       "      <td>159.0</td>\n",
       "      <td>4.09</td>\n",
       "      <td>False</td>\n",
       "      <td>True</td>\n",
       "      <td>False</td>\n",
       "      <td>0.708584</td>\n",
       "    </tr>\n",
       "    <tr>\n",
       "      <th>4</th>\n",
       "      <td>0xaee8</td>\n",
       "      <td>3</td>\n",
       "      <td>1166</td>\n",
       "      <td>2.0</td>\n",
       "      <td>2</td>\n",
       "      <td>3</td>\n",
       "      <td>0.0</td>\n",
       "      <td>2</td>\n",
       "      <td>5.84</td>\n",
       "      <td>1</td>\n",
       "      <td>2</td>\n",
       "      <td>82.0</td>\n",
       "      <td>3.56</td>\n",
       "      <td>False</td>\n",
       "      <td>True</td>\n",
       "      <td>False</td>\n",
       "      <td>0.684994</td>\n",
       "    </tr>\n",
       "  </tbody>\n",
       "</table>\n",
       "</div>"
      ],
      "text/plain": [
       "       Id  Property_Type  Property_Area  Number_of_Windows  Number_of_Doors  \\\n",
       "0  0x6808              3           1521                5.0                1   \n",
       "1  0x6a98              3           2233                2.0                1   \n",
       "2  0xacc0              1            986                1.0                1   \n",
       "3  0x8225              3           1625                2.0                1   \n",
       "4  0xaee8              3           1166                2.0                2   \n",
       "\n",
       "   Furnishing  Frequency_of_Powercuts  Water_Supply  Traffic_Density_Score  \\\n",
       "0           2                     0.0             3                   7.61   \n",
       "1           1                     0.0             1                   5.28   \n",
       "2           2                     0.0             3                   7.72   \n",
       "3           1                     0.0             2                   6.19   \n",
       "4           3                     0.0             2                   5.84   \n",
       "\n",
       "   Crime_Rate  Dust_and_Noise  Air_Quality_Index  Neighborhood_Review  \\\n",
       "0           2               2              156.0                 4.71   \n",
       "1           2               2               82.0                 4.50   \n",
       "2           2               2               91.0                 4.79   \n",
       "3           2               2              159.0                 4.09   \n",
       "4           1               2               82.0                 3.56   \n",
       "\n",
       "   NOT MENTIONED    No    Yes  Habitability_score  \n",
       "0          False  True  False            0.787674  \n",
       "1          False  True  False            0.761416  \n",
       "2          False  True  False            0.777402  \n",
       "3          False  True  False            0.708584  \n",
       "4          False  True  False            0.684994  "
      ]
     },
     "execution_count": 42,
     "metadata": {},
     "output_type": "execute_result"
    }
   ],
   "source": [
    "test_dataframe['Habitability_score'] = y_pred_new\n",
    "\n",
    "\n",
    "\n",
    "test_dataframe.head()"
   ]
  },
  {
   "cell_type": "code",
   "execution_count": 43,
   "id": "6cbcbc2f",
   "metadata": {
    "execution": {
     "iopub.execute_input": "2024-03-12T19:08:37.832371Z",
     "iopub.status.busy": "2024-03-12T19:08:37.831798Z",
     "iopub.status.idle": "2024-03-12T19:08:37.870758Z",
     "shell.execute_reply": "2024-03-12T19:08:37.869262Z"
    },
    "papermill": {
     "duration": 0.068575,
     "end_time": "2024-03-12T19:08:37.873419",
     "exception": false,
     "start_time": "2024-03-12T19:08:37.804844",
     "status": "completed"
    },
    "tags": []
   },
   "outputs": [
    {
     "name": "stdout",
     "output_type": "stream",
     "text": [
      "          Id  Habitability_score\n",
      "0     0x6808            0.787674\n",
      "1     0x6a98            0.761416\n",
      "2     0xacc0            0.777402\n",
      "3     0x8225            0.708584\n",
      "4     0xaee8            0.684994\n",
      "...      ...                 ...\n",
      "7895  0x6e26            0.642812\n",
      "7896  0xa013            0.607286\n",
      "7897  0x9721            0.824725\n",
      "7898  0x7e25            0.613887\n",
      "7899  0x8cb4            0.770461\n",
      "\n",
      "[7900 rows x 2 columns]\n"
     ]
    }
   ],
   "source": [
    "new_df=test_dataframe[['Id','Habitability_score']]\n",
    "\n",
    "print(new_df)\n",
    "\n",
    "new_df.to_csv('new_dataframe.csv', index=False)"
   ]
  },
  {
   "cell_type": "code",
   "execution_count": null,
   "id": "1b7e5468",
   "metadata": {
    "papermill": {
     "duration": 0.024799,
     "end_time": "2024-03-12T19:08:37.923294",
     "exception": false,
     "start_time": "2024-03-12T19:08:37.898495",
     "status": "completed"
    },
    "tags": []
   },
   "outputs": [],
   "source": []
  },
  {
   "cell_type": "code",
   "execution_count": null,
   "id": "a18c6703",
   "metadata": {
    "papermill": {
     "duration": 0.025153,
     "end_time": "2024-03-12T19:08:37.973602",
     "exception": false,
     "start_time": "2024-03-12T19:08:37.948449",
     "status": "completed"
    },
    "tags": []
   },
   "outputs": [],
   "source": []
  },
  {
   "cell_type": "code",
   "execution_count": null,
   "id": "1ff416d3",
   "metadata": {
    "papermill": {
     "duration": 0.025842,
     "end_time": "2024-03-12T19:08:38.024673",
     "exception": false,
     "start_time": "2024-03-12T19:08:37.998831",
     "status": "completed"
    },
    "tags": []
   },
   "outputs": [],
   "source": []
  },
  {
   "cell_type": "code",
   "execution_count": null,
   "id": "b197f7fd",
   "metadata": {
    "papermill": {
     "duration": 0.024997,
     "end_time": "2024-03-12T19:08:38.075180",
     "exception": false,
     "start_time": "2024-03-12T19:08:38.050183",
     "status": "completed"
    },
    "tags": []
   },
   "outputs": [],
   "source": []
  },
  {
   "cell_type": "code",
   "execution_count": null,
   "id": "bd27949f",
   "metadata": {
    "papermill": {
     "duration": 0.02498,
     "end_time": "2024-03-12T19:08:38.125497",
     "exception": false,
     "start_time": "2024-03-12T19:08:38.100517",
     "status": "completed"
    },
    "tags": []
   },
   "outputs": [],
   "source": []
  },
  {
   "cell_type": "code",
   "execution_count": null,
   "id": "2d94f678",
   "metadata": {
    "papermill": {
     "duration": 0.026959,
     "end_time": "2024-03-12T19:08:38.178107",
     "exception": false,
     "start_time": "2024-03-12T19:08:38.151148",
     "status": "completed"
    },
    "tags": []
   },
   "outputs": [],
   "source": []
  }
 ],
 "metadata": {
  "kaggle": {
   "accelerator": "none",
   "dataSources": [
    {
     "databundleVersionId": 7790774,
     "sourceId": 71296,
     "sourceType": "competition"
    }
   ],
   "dockerImageVersionId": 30664,
   "isGpuEnabled": false,
   "isInternetEnabled": true,
   "language": "python",
   "sourceType": "notebook"
  },
  "kernelspec": {
   "display_name": "Python 3",
   "language": "python",
   "name": "python3"
  },
  "language_info": {
   "codemirror_mode": {
    "name": "ipython",
    "version": 3
   },
   "file_extension": ".py",
   "mimetype": "text/x-python",
   "name": "python",
   "nbconvert_exporter": "python",
   "pygments_lexer": "ipython3",
   "version": "3.10.13"
  },
  "papermill": {
   "default_parameters": {},
   "duration": 12.884872,
   "end_time": "2024-03-12T19:08:38.928518",
   "environment_variables": {},
   "exception": null,
   "input_path": "__notebook__.ipynb",
   "output_path": "__notebook__.ipynb",
   "parameters": {},
   "start_time": "2024-03-12T19:08:26.043646",
   "version": "2.5.0"
  }
 },
 "nbformat": 4,
 "nbformat_minor": 5
}
